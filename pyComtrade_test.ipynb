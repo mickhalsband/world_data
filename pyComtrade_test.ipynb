{
 "cells": [
  {
   "cell_type": "code",
   "execution_count": 2,
   "metadata": {
    "collapsed": false
   },
   "outputs": [
    {
     "name": "stdout",
     "output_type": "stream",
     "text": [
      "pyComtrade instance created!\n",
      "['IA_G1', 'IB_G1', 'IC_G1', 'VA_G1', 'VB_G1', 'VC_G1', 'IA_G2', 'IB_G2', 'IC_G2', 'VA_G2', 'VB_G2', 'VC_G2', 'IA_G3', 'IB_G3', 'IC_G3', 'VA_G3', 'VB_G3', 'VC_G3', 'IA_G4', 'IB_G4', 'IC_G4', 'VA_G4', 'VB_G4', 'VC_G4', 'VA_B69', 'VB_B69', 'VC_B69', 'IN_TF7', 'IA_TF7', 'IB_TF7', 'IC_TF7']\n",
      "Record has 24768 samples\n",
      "Sampling rate is 5760 samples/sec.\n"
     ]
    }
   ],
   "source": [
    "import pyComtrade\n",
    "import pylab\n",
    "\n",
    " # Create an instance of the ComtradeRecord class and read the CFG file:\n",
    "comtradeObj = pyComtrade.ComtradeRecord('./examples/test_data3/test3.cfg')\n",
    "\n",
    "print comtradeObj.Ach_id # print the ids of the analog channels.\n",
    "\n",
    "N = comtradeObj.getNumberOfSamples()\n",
    "\n",
    "print 'Record has %d samples' %(N)\n",
    "print 'Sampling rate is %d samples/sec.' %(comtradeObj.getSamplingRate())\n",
    "\n",
    "# Reading data file:\n",
    "comtradeObj.ReadDataFile()\n",
    "\n",
    "# Reading channel 4:\n",
    "AnalogChannelData = comtradeObj.getAnalogChannelData(22)\n",
    "\n",
    "DigitalChannelData = comtradeObj.getDigitalChannelData(25)\n",
    "\n",
    "# Reading time vector:\n",
    "time = comtradeObj.getTime()\n",
    "\n",
    "# Ploting with matplotlib\n",
    "#pylab.plot(time,channelData)\n",
    "f, axarr = pylab.subplots(2, sharex=True)\n",
    "\n",
    "axarr[0].plot(time, AnalogChannelData)\n",
    "axarr[0].set_title('pyComtrade Demo')\n",
    "axarr[0].grid()\n",
    "axarr[1].plot(time, DigitalChannelData)\n",
    "axarr[1].set_ylim(top=1.05) # bottom unchanged\n",
    "axarr[1].grid()\n",
    "axarr[1].set_xlabel('Time [s]')\n",
    "pylab.show()"
   ]
  }
 ],
 "metadata": {
  "kernelspec": {
   "display_name": "Python 2",
   "language": "python",
   "name": "python2"
  },
  "language_info": {
   "codemirror_mode": {
    "name": "ipython",
    "version": 2
   },
   "file_extension": ".py",
   "mimetype": "text/x-python",
   "name": "python",
   "nbconvert_exporter": "python",
   "pygments_lexer": "ipython2",
   "version": "2.7.11"
  }
 },
 "nbformat": 4,
 "nbformat_minor": 0
}
